{
 "cells": [
  {
   "cell_type": "code",
   "execution_count": null,
   "id": "c4038c1e",
   "metadata": {},
   "outputs": [
    {
     "name": "stdout",
     "output_type": "stream",
     "text": [
      "Found 64706 images belonging to 2 classes.\n",
      "Found 16175 images belonging to 2 classes.\n",
      "Found 4017 images belonging to 2 classes.\n"
     ]
    },
    {
     "name": "stderr",
     "output_type": "stream",
     "text": [
      "C:\\Users\\Divyansh\\AppData\\Local\\Temp\\ipykernel_9464\\2894322250.py:65: UserWarning: `Model.fit_generator` is deprecated and will be removed in a future version. Please use `Model.fit`, which supports generators.\n",
      "  model.fit_generator(train_data,steps_per_epoch = train_data.samples// BATCH_SIZE,\n"
     ]
    },
    {
     "name": "stdout",
     "output_type": "stream",
     "text": [
      "Epoch 1/2\n",
      "16176/16176 [==============================] - ETA: 0s - loss: 0.1957 - accuracy: 0.9256\n",
      "Epoch 1: val_loss improved from inf to 0.31728, saving model to C:\\Users\\Divyansh\\Downloads\\Drowsiness\\mrlEyes_2018_01\\model\n",
      "INFO:tensorflow:Assets written to: C:\\Users\\Divyansh\\Downloads\\Drowsiness\\mrlEyes_2018_01\\model\\assets\n"
     ]
    },
    {
     "name": "stderr",
     "output_type": "stream",
     "text": [
      "INFO:tensorflow:Assets written to: C:\\Users\\Divyansh\\Downloads\\Drowsiness\\mrlEyes_2018_01\\model\\assets\n"
     ]
    },
    {
     "name": "stdout",
     "output_type": "stream",
     "text": [
      "16176/16176 [==============================] - 907s 56ms/step - loss: 0.1957 - accuracy: 0.9256 - val_loss: 0.3173 - val_accuracy: 0.8831 - lr: 0.0010\n",
      "Epoch 2/2\n",
      "  724/16176 [>.............................] - ETA: 9:26 - loss: 0.1776 - accuracy: 0.9313"
     ]
    }
   ],
   "source": [
    "import os\n",
    "import tensorflow as tf\n",
    "from tensorflow.keras.applications import InceptionV3\n",
    "from tensorflow.keras.models import Model\n",
    "from tensorflow.keras.layers import Dropout,Input,Flatten,Dense,MaxPooling2D\n",
    "from tensorflow.keras.preprocessing.image import ImageDataGenerator  # Data Augumentation\n",
    "\n",
    "BATCH_SIZE = 4\n",
    "EPOCHS = 2\n",
    "\n",
    "train_datagen = ImageDataGenerator(rescale = 1./255, rotation_range = 0.2,shear_range = 0.2,\n",
    "    zoom_range = 0.2,width_shift_range = 0.2,\n",
    "    height_shift_range = 0.2, validation_split = 0.2)\n",
    "\n",
    "train_data= train_datagen.flow_from_directory(r'C:\\Users\\Divyansh\\Downloads\\Drowsiness\\mrlEyes_2018_01\\Prepared Data\\train',\n",
    "                                target_size = (80,80), batch_size = BATCH_SIZE, \n",
    "                                class_mode = 'categorical',subset='training' )\n",
    "\n",
    "validation_data= train_datagen.flow_from_directory(r'C:\\Users\\Divyansh\\Downloads\\Drowsiness\\mrlEyes_2018_01\\Prepared Data\\train',\n",
    "                                target_size = (80,80), batch_size = BATCH_SIZE, \n",
    "                                class_mode = 'categorical',subset='validation' )\n",
    "\n",
    "\n",
    "test_datagen = ImageDataGenerator(rescale = 1./255)\n",
    "\n",
    "test_data = test_datagen.flow_from_directory(r'C:\\Users\\Divyansh\\Downloads\\Drowsiness\\mrlEyes_2018_01\\Prepared Data\\test',\n",
    "                                target_size=(80,80), batch_size = BATCH_SIZE, class_mode='categorical')\n",
    "\n",
    "\n",
    "\n",
    "bmodel = InceptionV3(include_top = False, weights = 'imagenet', \n",
    "                     input_tensor = Input(shape = (80,80,3)))\n",
    "hmodel = bmodel.output\n",
    "hmodel = Flatten()(hmodel)\n",
    "hmodel = Dense(64, activation = 'relu')(hmodel)\n",
    "hmodel = Dropout(0.5)(hmodel)\n",
    "hmodel = Dense(2,activation = 'softmax')(hmodel)\n",
    "\n",
    "model = Model(inputs = bmodel.input, outputs= hmodel)\n",
    "for layer in bmodel.layers:\n",
    "    layer.trainable = False\n",
    "\n",
    "\n",
    "from tensorflow.keras.callbacks import ModelCheckpoint,EarlyStopping, ReduceLROnPlateau\n",
    "\n",
    "\n",
    "checkpoint = ModelCheckpoint(r'C:\\Users\\Divyansh\\Downloads\\Drowsiness\\mrlEyes_2018_01\\model',\n",
    "                            monitor = 'val_loss', save_best_only = True, verbose = 3)\n",
    "\n",
    "earlystop = EarlyStopping(monitor = 'val_loss', patience = 7, \n",
    "                          verbose= 3, restore_best_weights = True)\n",
    "\n",
    "\n",
    "learning_rate = ReduceLROnPlateau(monitor= 'val_loss', patience=3, verbose= 3, )\n",
    "\n",
    "callbacks = [checkpoint, earlystop, learning_rate]\n",
    "\n",
    "\n",
    "\n",
    "model.compile(optimizer = 'Adam', \n",
    "              loss = 'categorical_crossentropy', \n",
    "              metrics = ['accuracy'])\n",
    "\n",
    "\n",
    "model.fit_generator(train_data,steps_per_epoch = train_data.samples// BATCH_SIZE,\n",
    "                   validation_data = validation_data,\n",
    "                   validation_steps = validation_data.samples// BATCH_SIZE,\n",
    "                   callbacks = callbacks,\n",
    "                    epochs = EPOCHS)\n",
    "\n",
    "\n",
    "# Model Evaluation\n",
    "\n",
    "\n",
    "acc_tr, loss_tr = model.evaluate_generator(train_data)\n",
    "print(acc_tr)\n",
    "print(loss_tr)\n",
    "\n",
    "\n",
    "acc_vr, loss_vr = model.evaluate_generator(validation_data)\n",
    "print(acc_vr)\n",
    "print(loss_vr)\n",
    "\n",
    "\n",
    "acc_test, loss_test = model.evaluate_generator(test_data)\n",
    "print(acc_tr)\n",
    "print(loss_tr)"
   ]
  },
  {
   "cell_type": "code",
   "execution_count": null,
   "id": "759d3f0d",
   "metadata": {},
   "outputs": [],
   "source": []
  }
 ],
 "metadata": {
  "kernelspec": {
   "display_name": "Python 3 (ipykernel)",
   "language": "python",
   "name": "python3"
  },
  "language_info": {
   "codemirror_mode": {
    "name": "ipython",
    "version": 3
   },
   "file_extension": ".py",
   "mimetype": "text/x-python",
   "name": "python",
   "nbconvert_exporter": "python",
   "pygments_lexer": "ipython3",
   "version": "3.11.5"
  }
 },
 "nbformat": 4,
 "nbformat_minor": 5
}
