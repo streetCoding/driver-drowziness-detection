{
 "cells": [
  {
   "cell_type": "code",
   "execution_count": 3,
   "id": "75012a74",
   "metadata": {},
   "outputs": [
    {
     "data": {
      "text/plain": [
       "<Twilio.Api.V2010.MessageInstance account_sid=ACc259733c473485f8eb7fcd633137743a sid=SM39123b703f5122ac369482dc4e6b19df>"
      ]
     },
     "execution_count": 3,
     "metadata": {},
     "output_type": "execute_result"
    }
   ],
   "source": [
    "import os\n",
    "from twilio.rest import Client\n",
    "account_sid = 'ACc259733c473485f8eb7fcd633137743a'\n",
    "auth_token = '97c70ef4b3e0ab8f09b40701eedeca4a'\n",
    "client = Client(account_sid,auth_token)\n",
    "client.messages.create (\n",
    "    to ='+919990617963',\n",
    "    from_='+12055063842',\n",
    "    body='ALERT! Driver drowsiness Detected in DL-9CCL-8974'\n",
    "    \n",
    ")"
   ]
  },
  {
   "cell_type": "code",
   "execution_count": null,
   "id": "b32ff2ad",
   "metadata": {},
   "outputs": [],
   "source": []
  },
  {
   "cell_type": "code",
   "execution_count": null,
   "id": "89716437",
   "metadata": {},
   "outputs": [],
   "source": []
  },
  {
   "cell_type": "code",
   "execution_count": null,
   "id": "67d898e8",
   "metadata": {},
   "outputs": [],
   "source": []
  },
  {
   "cell_type": "code",
   "execution_count": null,
   "id": "7f3c76dd",
   "metadata": {},
   "outputs": [],
   "source": []
  }
 ],
 "metadata": {
  "kernelspec": {
   "display_name": "Python 3 (ipykernel)",
   "language": "python",
   "name": "python3"
  },
  "language_info": {
   "codemirror_mode": {
    "name": "ipython",
    "version": 3
   },
   "file_extension": ".py",
   "mimetype": "text/x-python",
   "name": "python",
   "nbconvert_exporter": "python",
   "pygments_lexer": "ipython3",
   "version": "3.11.5"
  }
 },
 "nbformat": 4,
 "nbformat_minor": 5
}
